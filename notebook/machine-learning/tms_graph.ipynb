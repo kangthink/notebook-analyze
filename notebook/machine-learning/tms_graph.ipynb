{
 "cells": [
  {
   "cell_type": "code",
   "execution_count": 2,
   "metadata": {},
   "outputs": [],
   "source": [
    "# word_nodes\n",
    "word_nodes = [\n",
    "    {\n",
    "        \"id\": \"0a046200ceec42318ab81c487269bc04\",\n",
    "        \"word\": \"cardinal\"\n",
    "    },\n",
    "    {\n",
    "        \"id\": \"0a070035d329499794834c27f9c67da6\",\n",
    "        \"word\": \"laborer\"\n",
    "    }\n",
    "]"
   ]
  },
  {
   "cell_type": "code",
   "execution_count": 3,
   "metadata": {},
   "outputs": [
    {
     "data": {
      "text/plain": [
       "[{'id': '0a046200ceec42318ab81c487269bc04', 'word': 'cardinal'},\n",
       " {'id': '0a070035d329499794834c27f9c67da6', 'word': 'laborer'}]"
      ]
     },
     "execution_count": 3,
     "metadata": {},
     "output_type": "execute_result"
    }
   ],
   "source": [
    "word_nodes"
   ]
  },
  {
   "cell_type": "markdown",
   "metadata": {},
   "source": [
    "\n",
    "\"0a046200ceec42318ab81c487269bc04\"\t\"cardinal\"\t\"[kάːrdənl]\"\t\"[\"\"a. 가장 중요한, 기본적인\"\", \"\"n. 추기경\"\"]\"\t3\t5537\n",
    "\"0a070035d329499794834c27f9c67da6\"\t\"laborer\"\t\"[léibərər]\"\t\"[\"\"n. 노동자\"\"]\"\t0\t855\n",
    "\"0a099b9cb6b844cb828fa00415f757b4\"\t\"deceive\"\t\"[disíːv]\"\t\"[\"\"v. 속이다, 기만하다\"\", \"\"v. 현혹하다\"\"]\"\t3\t849\n",
    "\"0a0df37bd733487fad627c65235df85f\"\t\"inhospitable\"\t\"[inhάspitəbl]\"\t\"[\"\"a. 사람이 살기 힘든\"\", \"\"a. 살기 어려운\"\", \"\"a. 불친절한\"\"]\"\t2\t549\n",
    "\"0a20c06480bd40c5b4fdc4a08edeb758\"\t\"crease\"\t\"[kriːs]\"\t\"[\"\"n. 주름, 접은 자국\"\", \"\"v. ~에 접은 자국을 내다\"\"]\"\t2\t751\n",
    "\"0a2914a698904997ab943b4a3c08830a\"\t\"sociable\"\t\"[sóuʃəbl]\"\t\"[\"\"a. 사교적인\"\"]\"\t2\t413\n",
    "\"0a298cfadb534c0d848978dc483c9d37\"\t\"fictitious\"\t\"[fiktíʃəs]\"\t\"[\"\"a. 허구의, 지어낸\"\"]\"\t3\t867\n",
    "\"0a353ad87a8047a0a8ee88da3eca707b\"\t\"jurisdictional\"\t\"[dʒùərisdíkʃənl]\"\t\"[\"\"a. 사법권의\"\", \"\"a. 재판 관할상의\"\"]\"\t0\t516\n",
    "\"0a389657d75e4df4938da6e4d34efbb4\"\t\"habituation\"\t\"[həbìʧuéiʃən]\"\t\"[\"\"n. 습관화\"\"]\"\t2\t161\n",
    "\"0a56c9ebe6584046be3fc4e4789f2f00\"\t\"attitude\"\t\"[ǽtitjùːd]\"\t\"[\"\"n. 태도\"\", \"\"n. 자세\"\", \"\"n. 사고방식\"\"]\"\t4\t22767"
   ]
  },
  {
   "cell_type": "code",
   "execution_count": 4,
   "metadata": {},
   "outputs": [],
   "source": [
    "sent_nodes = [\n",
    "    {\n",
    "        \"id\": \"96190828fbd04d6c9ee2f0b39d0fe65e\",\n",
    "        \"sent\": \"The controversy over baseball star Mark McGwire's use of two performance-enhancing drugs has been largely swept aside by the American media after the National League and McGwire's St. Louis Cardinals declared that the substances were legal, over-the-counter diet supplements whose use did not violate league rules.\"\n",
    "    },\n",
    "    {\n",
    "        \"id\": \"25fb417aae7248139e5df732bbca95d2\",\n",
    "        \"sent\": \"As a salesman, you should remember that your cardinal rule is to do everything you can to satisfy a customer.\"\n",
    "    }\n",
    "]\n"
   ]
  },
  {
   "cell_type": "code",
   "execution_count": 5,
   "metadata": {},
   "outputs": [],
   "source": [
    "edges = [\n",
    "    ('0a046200ceec42318ab81c487269bc04', '96190828fbd04d6c9ee2f0b39d0fe65e'),\n",
    "    ('0a046200ceec42318ab81c487269bc04', '25fb417aae7248139e5df732bbca95d2')\n",
    "]"
   ]
  },
  {
   "cell_type": "code",
   "execution_count": 6,
   "metadata": {},
   "outputs": [],
   "source": [
    "import networkx as nx\n",
    "G = nx.Graph()\n"
   ]
  },
  {
   "cell_type": "code",
   "execution_count": 7,
   "metadata": {},
   "outputs": [],
   "source": [
    "for node in word_nodes:\n",
    "    G.add_node(node[\"id\"])\n",
    "\n",
    "for node in sent_nodes:\n",
    "    G.add_node(node[\"id\"])"
   ]
  },
  {
   "cell_type": "code",
   "execution_count": 10,
   "metadata": {},
   "outputs": [],
   "source": [
    "G.add_edges_from(edges)"
   ]
  },
  {
   "cell_type": "code",
   "execution_count": 11,
   "metadata": {},
   "outputs": [
    {
     "data": {
      "text/plain": [
       "NodeView(('0a046200ceec42318ab81c487269bc04', '0a070035d329499794834c27f9c67da6', '96190828fbd04d6c9ee2f0b39d0fe65e', '25fb417aae7248139e5df732bbca95d2'))"
      ]
     },
     "execution_count": 11,
     "metadata": {},
     "output_type": "execute_result"
    }
   ],
   "source": [
    "G.nodes"
   ]
  },
  {
   "cell_type": "code",
   "execution_count": 12,
   "metadata": {},
   "outputs": [
    {
     "data": {
      "text/plain": [
       "EdgeView([('0a046200ceec42318ab81c487269bc04', '96190828fbd04d6c9ee2f0b39d0fe65e'), ('0a046200ceec42318ab81c487269bc04', '25fb417aae7248139e5df732bbca95d2')])"
      ]
     },
     "execution_count": 12,
     "metadata": {},
     "output_type": "execute_result"
    }
   ],
   "source": [
    "G.edges"
   ]
  },
  {
   "cell_type": "code",
   "execution_count": 13,
   "metadata": {},
   "outputs": [],
   "source": [
    "%matplotlib inline"
   ]
  },
  {
   "cell_type": "code",
   "execution_count": 14,
   "metadata": {},
   "outputs": [
    {
     "data": {
      "image/png": "[encoded data removed]",
      "text/plain": [
       "<Figure size 432x288 with 1 Axes>"
      ]
     },
     "metadata": {},
     "output_type": "display_data"
    }
   ],
   "source": [
    " nx.draw_networkx(G)"
   ]
  },
  {
   "cell_type": "code",
   "execution_count": 15,
   "metadata": {},
   "outputs": [
    {
     "name": "stdout",
     "output_type": "stream",
     "text": [
      "0a046200ceec42318ab81c487269bc04\n",
      "{'96190828fbd04d6c9ee2f0b39d0fe65e': {}, '25fb417aae7248139e5df732bbca95d2': {}}\n",
      "0a070035d329499794834c27f9c67da6\n",
      "{}\n",
      "96190828fbd04d6c9ee2f0b39d0fe65e\n",
      "{'0a046200ceec42318ab81c487269bc04': {}}\n",
      "25fb417aae7248139e5df732bbca95d2\n",
      "{'0a046200ceec42318ab81c487269bc04': {}}\n"
     ]
    }
   ],
   "source": [
    "for n, nbrs in G.adj.items():\n",
    "    print(n)\n",
    "    print(nbrs)"
   ]
  },
  {
   "cell_type": "code",
   "execution_count": null,
   "metadata": {},
   "outputs": [],
   "source": []
  }
 ],
 "metadata": {
  "kernelspec": {
   "display_name": "Python 3",
   "language": "python",
   "name": "python3"
  },
  "language_info": {
   "codemirror_mode": {
    "name": "ipython",
    "version": 3
   },
   "file_extension": ".py",
   "mimetype": "text/x-python",
   "name": "python",
   "nbconvert_exporter": "python",
   "pygments_lexer": "ipython3",
   "version": "3.6.8"
  }
 },
 "nbformat": 4,
 "nbformat_minor": 2
}
