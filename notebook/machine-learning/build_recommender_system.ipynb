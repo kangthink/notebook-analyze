{
 "cells": [
  {
   "cell_type": "markdown",
   "metadata": {},
   "source": [
    "Why do you need recommender system?\n",
    "\n",
    "what kind of library is required?\n",
    "\n",
    "Concepts\n",
    "- users and items\n",
    "    \n",
    "types\n",
    "- Popularity based\n",
    "- Classification Model\n",
    "\n",
    "\n",
    "\n",
    "\n",
    " \n"
   ]
  },
  {
   "cell_type": "markdown",
   "metadata": {},
   "source": [
    "# Item-based Collaborative Filtering in pure python"
   ]
  },
  {
   "cell_type": "code",
   "execution_count": 126,
   "metadata": {},
   "outputs": [],
   "source": [
    "users = ['1','2','3','4','5']\n",
    "items_by_user = {\n",
    "    '1': ['a', 'b', 'c'],\n",
    "    '2': ['a', 'c'],\n",
    "    '3': ['a', 'b'],\n",
    "    '4': ['a', 'b', 'c'],\n",
    "    '5': ['a', 'd', 'b']\n",
    "}"
   ]
  },
  {
   "cell_type": "code",
   "execution_count": 127,
   "metadata": {},
   "outputs": [],
   "source": [
    "# item-based collaborative filtering\n",
    "# build co-occurrence matrix: items by items\n",
    "def item_bag(items_by_user):\n",
    "    bag = set()\n",
    "    for items in items_by_user.values():\n",
    "        bag = bag.union(set(items))\n",
    "    return bag"
   ]
  },
  {
   "cell_type": "code",
   "execution_count": 170,
   "metadata": {},
   "outputs": [],
   "source": [
    "\n",
    "def occurrence(target, rest, bag):\n",
    "    count = 0\n",
    "    for items in bag.values():\n",
    "        if (target in items) and (rest in items):\n",
    "            count += 1\n",
    "    return count\n",
    "\n",
    "def normalized_occurrence(target, rest, bag):\n",
    "    base = 0\n",
    "    count = 0\n",
    "    for items in bag.values():\n",
    "        if (target in items) or (rest in items):\n",
    "            base += 1\n",
    "        if (target in items) and (rest in items):\n",
    "            count += 1\n",
    "        \n",
    "    return count / base\n",
    "\n",
    "# Problem\n",
    "# if one item is really popular,\n",
    "# top recommendation is always the same,\n",
    "# no matter what item is given.\n",
    "\n",
    "# Solution\n",
    "# Use Jaccard similarity\n",
    "# normalize occurrence by popularity\n",
    "# See normailzed_occurrence above\n",
    "def build_co_occurrence(bag, data):\n",
    "    rv = {}\n",
    "    for target in iter(bag):\n",
    "        for rest in iter(bag):\n",
    "            if target == rest:\n",
    "                continue\n",
    "            try:\n",
    "                rv[target][rest] = normalized_occurrence(target, rest, bag=data)\n",
    "            except:\n",
    "                rv[target] = {}\n",
    "                rv[target][rest] = normalized_occurrence(target, rest, bag=data)\n",
    "                \n",
    "    return rv"
   ]
  },
  {
   "cell_type": "code",
   "execution_count": 171,
   "metadata": {},
   "outputs": [],
   "source": [
    "bag = item_bag(items_by_user)\n",
    "cooc = build_co_occurrence(bag, items_by_user)"
   ]
  },
  {
   "cell_type": "code",
   "execution_count": 172,
   "metadata": {},
   "outputs": [
    {
     "data": {
      "text/plain": [
       "{'d': {'b': 0.25, 'c': 0.0, 'a': 0.2},\n",
       " 'b': {'d': 0.25, 'c': 0.4, 'a': 0.8},\n",
       " 'c': {'d': 0.0, 'b': 0.4, 'a': 0.6},\n",
       " 'a': {'d': 0.2, 'b': 0.8, 'c': 0.6}}"
      ]
     },
     "execution_count": 172,
     "metadata": {},
     "output_type": "execute_result"
    }
   ],
   "source": [
    "cooc"
   ]
  },
  {
   "cell_type": "code",
   "execution_count": 167,
   "metadata": {},
   "outputs": [],
   "source": [
    "def recommend(co_occurrence, item):\n",
    "    try:\n",
    "        occurence = co_occurrence.get(item)\n",
    "    except KeyError:\n",
    "        return []    \n",
    "    else:\n",
    "        lst = [(item, count) for item, count in occurence.items()]\n",
    "        lst.sort(key=lambda pair: pair[1], reverse=True)\n",
    "        return lst"
   ]
  },
  {
   "cell_type": "code",
   "execution_count": 168,
   "metadata": {},
   "outputs": [],
   "source": [
    "r = recommend(cooc, 'b')"
   ]
  },
  {
   "cell_type": "code",
   "execution_count": 169,
   "metadata": {},
   "outputs": [
    {
     "data": {
      "text/plain": [
       "[('a', 0.8), ('c', 0.4), ('d', 0.25)]"
      ]
     },
     "execution_count": 169,
     "metadata": {},
     "output_type": "execute_result"
    }
   ],
   "source": [
    "r"
   ]
  },
  {
   "cell_type": "code",
   "execution_count": 173,
   "metadata": {},
   "outputs": [],
   "source": [
    "r2 = recommend(cooc, 'c')"
   ]
  },
  {
   "cell_type": "code",
   "execution_count": 174,
   "metadata": {},
   "outputs": [
    {
     "data": {
      "text/plain": [
       "[('a', 0.6), ('b', 0.4), ('d', 0.0)]"
      ]
     },
     "execution_count": 174,
     "metadata": {},
     "output_type": "execute_result"
    }
   ],
   "source": [
    "r2"
   ]
  },
  {
   "cell_type": "code",
   "execution_count": 177,
   "metadata": {},
   "outputs": [],
   "source": [
    "def multiple_recommend(co_occurrence, items):\n",
    "    # TODO\n",
    "    # Weighted sum for each item\n",
    "    pass"
   ]
  },
  {
   "cell_type": "markdown",
   "metadata": {},
   "source": [
    "# END"
   ]
  },
  {
   "cell_type": "code",
   "execution_count": null,
   "metadata": {},
   "outputs": [],
   "source": []
  },
  {
   "cell_type": "code",
   "execution_count": null,
   "metadata": {},
   "outputs": [],
   "source": []
  },
  {
   "cell_type": "code",
   "execution_count": null,
   "metadata": {},
   "outputs": [],
   "source": []
  },
  {
   "cell_type": "code",
   "execution_count": null,
   "metadata": {},
   "outputs": [],
   "source": []
  },
  {
   "cell_type": "code",
   "execution_count": null,
   "metadata": {},
   "outputs": [],
   "source": []
  },
  {
   "cell_type": "markdown",
   "metadata": {},
   "source": []
  },
  {
   "cell_type": "code",
   "execution_count": null,
   "metadata": {},
   "outputs": [],
   "source": []
  },
  {
   "cell_type": "code",
   "execution_count": null,
   "metadata": {},
   "outputs": [],
   "source": []
  },
  {
   "cell_type": "code",
   "execution_count": null,
   "metadata": {},
   "outputs": [],
   "source": []
  },
  {
   "cell_type": "code",
   "execution_count": null,
   "metadata": {},
   "outputs": [],
   "source": []
  },
  {
   "cell_type": "code",
   "execution_count": null,
   "metadata": {},
   "outputs": [],
   "source": []
  },
  {
   "cell_type": "code",
   "execution_count": null,
   "metadata": {},
   "outputs": [],
   "source": []
  },
  {
   "cell_type": "code",
   "execution_count": null,
   "metadata": {},
   "outputs": [],
   "source": []
  },
  {
   "cell_type": "code",
   "execution_count": null,
   "metadata": {},
   "outputs": [],
   "source": []
  }
 ],
 "metadata": {
  "kernelspec": {
   "display_name": "Python 3",
   "language": "python",
   "name": "python3"
  },
  "language_info": {
   "codemirror_mode": {
    "name": "ipython",
    "version": 3
   },
   "file_extension": ".py",
   "mimetype": "text/x-python",
   "name": "python",
   "nbconvert_exporter": "python",
   "pygments_lexer": "ipython3",
   "version": "3.6.8"
  }
 },
 "nbformat": 4,
 "nbformat_minor": 2
}
