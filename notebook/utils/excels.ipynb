{
 "cells": [
  {
   "cell_type": "markdown",
   "metadata": {},
   "source": [
    "# 엑셀파일을 처리할 수 있는 모듈을 테스트한다."
   ]
  },
  {
   "cell_type": "code",
   "execution_count": 1,
   "metadata": {},
   "outputs": [],
   "source": [
    "# %load ./excel.py\n",
    "import os\n",
    "\n",
    "from openpyxl import load_workbook\n",
    "\n",
    "class ExcelContainer:\n",
    "    \n",
    "    def __init__(self, path):\n",
    "        self._file_root = path[:-len(os.path.basename(path))]\n",
    "        self._file_name = os.path.basename(path)\n",
    "        self._workbook = load_workbook(filename=path)\n",
    "        \n",
    "    def worksheet(self, name):\n",
    "        try:\n",
    "            return self._workbook[name]\n",
    "        except KeyError as e:\n",
    "            return Exception\n",
    "    \n",
    "    @staticmethod\n",
    "    def header(worksheet):\n",
    "        header = [cell.value for row in worksheet.iter_rows(min_row=1, max_row=1) for cell in row]\n",
    "        return header\n",
    "    \n",
    "    @staticmethod\n",
    "    def elements(worksheet, start=2):\n",
    "        for row in worksheet.iter_rows(min_row=start):\n",
    "            values = [cell.value for cell in row]\n",
    "            yield values"
   ]
  },
  {
   "cell_type": "code",
   "execution_count": 2,
   "metadata": {},
   "outputs": [],
   "source": [
    "container = ExcelContainer(\"../../data/sample_words.xlsx\")"
   ]
  },
  {
   "cell_type": "code",
   "execution_count": 3,
   "metadata": {},
   "outputs": [
    {
     "data": {
      "text/plain": [
       "<__main__.ExcelContainer at 0x7f5bd82f7240>"
      ]
     },
     "execution_count": 3,
     "metadata": {},
     "output_type": "execute_result"
    }
   ],
   "source": [
    "container"
   ]
  },
  {
   "cell_type": "code",
   "execution_count": 46,
   "metadata": {},
   "outputs": [],
   "source": [
    "# sheet 가져오기\n",
    "sheet = container.worksheet('sample01')"
   ]
  },
  {
   "cell_type": "code",
   "execution_count": 47,
   "metadata": {},
   "outputs": [
    {
     "data": {
      "text/plain": [
       "['단어', '뜻', '문장']"
      ]
     },
     "execution_count": 47,
     "metadata": {},
     "output_type": "execute_result"
    }
   ],
   "source": [
    "# sheet에서 헤더 정보 가져오기 \n",
    "ExcelContainer.header(sheet)"
   ]
  },
  {
   "cell_type": "code",
   "execution_count": 50,
   "metadata": {},
   "outputs": [
    {
     "name": "stdout",
     "output_type": "stream",
     "text": [
      "['apple', 'n.사과', 'I have an apple.']\n",
      "['banana', 'n. 바나나', 'I love banana.']\n"
     ]
    }
   ],
   "source": [
    "# sheet에서 내부 데이터 가져오기\n",
    "elements = ExcelContainer.elements(sheet)\n",
    "for row in elements:\n",
    "    print(row)"
   ]
  }
 ],
 "metadata": {
  "kernelspec": {
   "display_name": "Python 3",
   "language": "python",
   "name": "python3"
  },
  "language_info": {
   "codemirror_mode": {
    "name": "ipython",
    "version": 3
   },
   "file_extension": ".py",
   "mimetype": "text/x-python",
   "name": "python",
   "nbconvert_exporter": "python",
   "pygments_lexer": "ipython3",
   "version": "3.6.8"
  }
 },
 "nbformat": 4,
 "nbformat_minor": 2
}
