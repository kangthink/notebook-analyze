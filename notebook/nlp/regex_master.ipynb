{
 "cells": [
  {
   "cell_type": "markdown",
   "metadata": {},
   "source": [
    "# 정규 표현식\n",
    "\n",
    "지식\n",
    "- 정규 표현식 짧은 역사\n",
    "- 정규표현식 표현 방식\n",
    "- 패턴의 의미 (직관적으로 해석하는 법)\n",
    "    - @패턴을 보고 여러가지 예시를 떠올릴 수 있는가?\n",
    "    - @다양한 훈련\n",
    "    - @그룹화하기\n",
    "    \n",
    "- re 모듈이 제공하는 유용한 함수\n",
    "    - @각 함수 활용법\n",
    "  \n",
    "주요비유\n",
    "- 패턴 마법 돋보기\n",
    "\n",
    "참고자료 \n",
    "- https://arisuchan.jp/%CE%BB/src/1498631701201-0.pdf"
   ]
  },
  {
   "cell_type": "markdown",
   "metadata": {},
   "source": [
    "표현 안에 2가지로 분류할 수 있다.\n",
    "litreals vs metacharacters"
   ]
  },
  {
   "cell_type": "markdown",
   "metadata": {},
   "source": [
    "matecharacters를 literal로 변환하는 법\n",
    "\n",
    "- escape by preceding them with a backslash\n",
    "- re.escape\n",
    "- \\Q \\E\n",
    "\n",
    "주요 메타 캐릭터 (12개)\n",
    "- backslash \\\n",
    "- caret ^\n",
    "- Dollar sign $\n",
    "- Dot .\n",
    "- Pipe symbol |\n",
    "- Question mark ?\n",
    "- Asterisk *\n",
    "- Plus sign +\n",
    "- Opening parenthesis (\n",
    "- Closing paraenthesis )\n",
    "- Opening square bracket [\n",
    "- The opening curly brace {\n",
    "\n"
   ]
  },
  {
   "cell_type": "markdown",
   "metadata": {},
   "source": [
    "## Character classes\n",
    "\n",
    "[a-z] : a부터 z까지 알파벳\n",
    "[0-9] : 0부터 9까지 모든 숫자\n",
    "[0-9a-zA-Z] : 모든 숫자와 알파벳\n",
    "\n",
    "\n",
    "## Predefined Character classes\n",
    "\n",
    ". : newline \\n 을 제외한 모든 문자. 탭, 띄어쓰기도 포함\n",
    "\\d : decimal == [0-9]\n",
    "\\D : not decimal == [^0-9]\n",
    "\\s : all kind of spaces == [ \\t\\n\\r\\f\\v]\n",
    "\\S : not spaces == [^ \\t\\n\\r\\f\\v]\n",
    "\\w : any alphanumeric character == [a-zA-Z0-9]\n",
    "\n"
   ]
  },
  {
   "cell_type": "markdown",
   "metadata": {},
   "source": [
    "[^\\/\\] 의미? - 슬래쉬 혹은 역슬래쉬를 제외한 모든 것"
   ]
  },
  {
   "cell_type": "markdown",
   "metadata": {},
   "source": [
    "## Alternation\n",
    "\n",
    "- yes|no 의미? - yes 아니면 no 모두\n",
    "- yes|no|maybe 의미? - 셋 중하나\n",
    "- Licence: (yes|no)"
   ]
  },
  {
   "cell_type": "markdown",
   "metadata": {},
   "source": [
    "## Quantifiers\n",
    "\n",
    "패턴이 반복된다면 어떻게 할까?\n",
    "\n",
    "앞의 단어랑 어떻게 연관되는지 표현한다."
   ]
  }
 ],
 "metadata": {
  "kernelspec": {
   "display_name": "Python 3",
   "language": "python",
   "name": "python3"
  },
  "language_info": {
   "codemirror_mode": {
    "name": "ipython",
    "version": 3
   },
   "file_extension": ".py",
   "mimetype": "text/x-python",
   "name": "python",
   "nbconvert_exporter": "python",
   "pygments_lexer": "ipython3",
   "version": "3.6.8"
  }
 },
 "nbformat": 4,
 "nbformat_minor": 2
}
