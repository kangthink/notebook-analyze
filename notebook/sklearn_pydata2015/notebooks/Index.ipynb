{
 "metadata": {
  "name": "",
  "signature": "sha256:bc2860f990730fd6dabc20dd32ddeeb48f989228997eca69c76980b706d56946"
 },
 "nbformat": 3,
 "nbformat_minor": 0,
 "worksheets": [
  {
   "cells": [
    {
     "cell_type": "markdown",
     "metadata": {},
     "source": [
      "# PyData Seattle 2015 Scikit-Learn Tutorial\n",
      "\n",
      "This is the main index of the PyData Seattle 2015 Introduction to Scikit-Learn tutorial, presented by [Jake VanderPlas](http://www.vanderplas.com).\n",
      "Please refer to the [github repository](http://github.com/jakevdp/sklearn_pydata2015) for this tutorial for any updates."
     ]
    },
    {
     "cell_type": "markdown",
     "metadata": {},
     "source": [
      "## Tutorial Notebooks\n",
      "\n",
      "The following links are to notebooks containing the tutorial materials.\n",
      "Note that many of these require files that are in the directory structure of the [github repository](http://github.com/jakevdp/sklearn_pydata2015) in which they are contained.\n",
      "There is not time during the tutorial to cover all of this material, but I left it in in case attendees would like to go deeper on their own.\n",
      "\n",
      "### 1. Preliminaries\n",
      "\n",
      "  + [01-Preliminaries.ipynb](01-Preliminaries.ipynb)\n",
      "  \n",
      "### 2. Introduction to Machine Learning with Scikit-Learn\n",
      "\n",
      "  + [02.1-Machine-Learning-Intro.ipynb](02.1-Machine-Learning-Intro.ipynb)\n",
      "  + [02.2-Basic-Principles.ipynb](02.2-Basic-Principles.ipynb)\n",
      "  \n",
      "### 3. Supervised Learning In-Depth\n",
      "\n",
      "  + [03.1-Classification-SVMs.ipynb](03.1-Classification-SVMs.ipynb)\n",
      "  + [03.2-Regression-Forests.ipynb](03.2-Regression-Forests.ipynb)\n",
      "\n",
      "### 4. Unsupervised Learning In-Depth\n",
      "\n",
      "  + [04.1-Dimensionality-PCA.ipynb](04.1-Dimensionality-PCA.ipynb)\n",
      "  + [04.2-Clustering-KMeans.ipynb](04.2-Clustering-KMeans.ipynb)\n",
      "  + [04.3-Density-GMM.ipynb](04.3-Density-GMM.ipynb)\n",
      "  \n",
      "### 5. Model Validation In-Depth\n",
      "\n",
      "  + [05-Validation.ipynb](05-Validation.ipynb)"
     ]
    }
   ],
   "metadata": {}
  }
 ]
}